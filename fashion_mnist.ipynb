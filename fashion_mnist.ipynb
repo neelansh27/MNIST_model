{
  "nbformat": 4,
  "nbformat_minor": 0,
  "metadata": {
    "colab": {
      "provenance": [],
      "gpuType": "T4",
      "authorship_tag": "ABX9TyNBwvs1IS2GSCQpFgbeunFu",
      "include_colab_link": true
    },
    "kernelspec": {
      "name": "python3",
      "display_name": "Python 3"
    },
    "language_info": {
      "name": "python"
    },
    "accelerator": "GPU"
  },
  "cells": [
    {
      "cell_type": "markdown",
      "metadata": {
        "id": "view-in-github",
        "colab_type": "text"
      },
      "source": [
        "<a href=\"https://colab.research.google.com/github/neelansh27/MNIST_model/blob/main/fashion_mnist.ipynb\" target=\"_parent\"><img src=\"https://colab.research.google.com/assets/colab-badge.svg\" alt=\"Open In Colab\"/></a>"
      ]
    },
    {
      "cell_type": "code",
      "execution_count": null,
      "metadata": {
        "id": "BVgco0sMFmNl"
      },
      "outputs": [],
      "source": [
        "import tensorflow as tf\n",
        "import numpy as np\n",
        "import matplotlib.pyplot as plt\n",
        "from tensorflow.keras.layers import Input,Conv2D, Dense, Flatten\n",
        "from tensorflow.keras.models import Model"
      ]
    },
    {
      "cell_type": "code",
      "source": [
        "fashion_mnist=tf.keras.datasets.fashion_mnist\n",
        "(x_train,y_train),(x_test,y_test)=fashion_mnist.load_data()\n",
        "x_train=x_train/255\n",
        "x_test=x_test/255"
      ],
      "metadata": {
        "id": "L3ISSoVRGz3K"
      },
      "execution_count": null,
      "outputs": []
    },
    {
      "cell_type": "code",
      "source": [
        "# total no. of outputs/categories\n",
        "K=len(np.unique(y_train))\n",
        "K"
      ],
      "metadata": {
        "id": "fysM2kyhJ7yO"
      },
      "execution_count": null,
      "outputs": []
    },
    {
      "cell_type": "code",
      "source": [
        "x_train.shape"
      ],
      "metadata": {
        "id": "yOTgVeEcMaWC"
      },
      "execution_count": null,
      "outputs": []
    },
    {
      "cell_type": "code",
      "source": [
        "# Since the Data is 2D, we have to convert it to 3D\n",
        "# because CNN expects input of form \"N x H x W x C\"\n",
        "x_train=np.expand_dims(x_train,-1) # Can also use .reshape method\n",
        "x_test=x_test.reshape(*x_test.shape,1)\n",
        "x_train.shape"
      ],
      "metadata": {
        "id": "VgzGYh_wMexV"
      },
      "execution_count": null,
      "outputs": []
    },
    {
      "cell_type": "code",
      "source": [
        "# Building the model\n",
        "model=tf.keras.Sequential([\n",
        "    Input(shape=x_train[0].shape),\n",
        "    Conv2D(32,(3,3),strides=2,activation='relu'),\n",
        "    Conv2D(64,(3,3),strides=2,activation='relu'),\n",
        "    Conv2D(128,(3,3),strides=2,activation='relu'),\n",
        "    Flatten(),\n",
        "    Dense(512,activation='relu'),\n",
        "    Dense(K,activation='softmax'),\n",
        "])\n",
        "model.compile(optimizer='adam',loss='sparse_categorical_crossentropy',metrics=['accuracy'])"
      ],
      "metadata": {
        "id": "6rOdWNMYM-13"
      },
      "execution_count": null,
      "outputs": []
    },
    {
      "cell_type": "code",
      "source": [
        "stopper=tf.keras.callbacks.EarlyStopping()\n",
        "res=model.fit(\n",
        "    x_train,\n",
        "    y_train,\n",
        "    validation_split=0.2,\n",
        "    epochs=8,\n",
        "    callbacks=[stopper],\n",
        "    verbose=2)"
      ],
      "metadata": {
        "id": "cNatbOJbNPhN"
      },
      "execution_count": null,
      "outputs": []
    },
    {
      "cell_type": "code",
      "source": [
        "loss,acc=model.evaluate(x_test,y_test)\n",
        "print(f'Accuracy:{acc*100:.2f}%\\nLoss:{loss:.2f}')"
      ],
      "metadata": {
        "id": "VfL57H_oPhzu"
      },
      "execution_count": null,
      "outputs": []
    },
    {
      "cell_type": "code",
      "source": [
        "plt.plot(res.history['loss'],label='loss')\n",
        "plt.plot(res.history['val_loss'],label='validation loss')\n",
        "plt.legend()\n",
        "plt.show()"
      ],
      "metadata": {
        "id": "t0u6i1nXRDRT"
      },
      "execution_count": null,
      "outputs": []
    },
    {
      "cell_type": "code",
      "source": [
        "plt.plot(res.history['accuracy'],label='Accuracy')\n",
        "plt.plot(res.history['val_accuracy'],label='Validation accuracy')\n",
        "plt.title('Accuracy')\n",
        "plt.legend()\n",
        "plt.show()"
      ],
      "metadata": {
        "id": "-l0omSKRR0Dd"
      },
      "execution_count": null,
      "outputs": []
    },
    {
      "cell_type": "code",
      "source": [
        "yhat=model.predict(x_test).argmax(axis=1)\n",
        "yhat"
      ],
      "metadata": {
        "id": "7pP3VapeR9YF"
      },
      "execution_count": null,
      "outputs": []
    },
    {
      "cell_type": "code",
      "source": [
        "from sklearn.metrics import confusion_matrix\n",
        "pred_tab=confusion_matrix(y_test,yhat)"
      ],
      "metadata": {
        "id": "GK5gYE28TrC3"
      },
      "execution_count": null,
      "outputs": []
    },
    {
      "cell_type": "code",
      "source": [
        "import seaborn as sns\n",
        "labels='''T-shirt/top\n",
        "Trouser\n",
        "Pullover\n",
        "Dress\n",
        "Coat\n",
        "Sandal\n",
        "Shirt\n",
        "Sneaker\n",
        "Bag\n",
        "Ankle_boot'''.split()\n",
        "sns.heatmap(data=pred_tab,annot=True,fmt='.0f',linecolor='black',\n",
        "            clip_on=False,yticklabels=labels,xticklabels=labels,\n",
        "            linewidth=0.5,cmap=plt.cm.Purples)\n",
        "plt.xlabel('Predicted')\n",
        "plt.ylabel('Actual')\n",
        "plt.title('Confusion Matrix')\n",
        "plt.show()"
      ],
      "metadata": {
        "id": "zCywTs4QUmB1"
      },
      "execution_count": null,
      "outputs": []
    },
    {
      "cell_type": "code",
      "source": [
        "# See an image which was predicted wrong\n",
        "wrong_pred=np.where(yhat!=y_test)[0]\n",
        "id=np.random.choice(wrong_pred)\n",
        "plt.imshow(x_test[id].reshape(28,28),cmap='gray')\n",
        "plt.title(f'{labels[y_test[id]]} classified as {labels[yhat[id]]}')\n",
        "plt.axis('off')\n",
        "plt.show()"
      ],
      "metadata": {
        "id": "6OXKqZh-U6Q8"
      },
      "execution_count": null,
      "outputs": []
    }
  ]
}