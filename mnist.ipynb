{
  "nbformat": 4,
  "nbformat_minor": 0,
  "metadata": {
    "colab": {
      "provenance": [],
      "gpuType": "T4",
      "authorship_tag": "ABX9TyOC5IowFnIkHORSs+A5jnHr"
    },
    "kernelspec": {
      "name": "python3",
      "display_name": "Python 3"
    },
    "language_info": {
      "name": "python"
    },
    "accelerator": "GPU"
  },
  "cells": [
    {
      "cell_type": "code",
      "execution_count": 1,
      "metadata": {
        "id": "ZW__VLp_zU5U"
      },
      "outputs": [],
      "source": [
        "import numpy as np\n",
        "import tensorflow as tf\n",
        "import tensorflow_datasets as tfds"
      ]
    },
    {
      "cell_type": "code",
      "source": [
        "mnist_dataset,mnist_info=tfds.load(name='mnist',as_supervised=True,with_info=True)\n",
        "type(mnist_dataset)"
      ],
      "metadata": {
        "colab": {
          "base_uri": "https://localhost:8080/"
        },
        "id": "OFTsRkKQ2GdF",
        "outputId": "008f4f63-937c-4ab8-8551-2b3e96afccfd"
      },
      "execution_count": 2,
      "outputs": [
        {
          "output_type": "execute_result",
          "data": {
            "text/plain": [
              "dict"
            ]
          },
          "metadata": {},
          "execution_count": 2
        }
      ]
    },
    {
      "cell_type": "code",
      "source": [
        "m_train,m_test=mnist_dataset['train'],mnist_dataset['test']\n",
        "validation_samples=0.1 * mnist_info.splits['train'].num_examples\n",
        "test_samples= mnist_info.splits['test'].num_examples\n",
        "validation_samples=tf.cast(validation_samples,tf.int64) # validation samples could be float so we cast it to int\n",
        "\n",
        "def scale(image,label):\n",
        "  image=tf.cast(image,tf.float32)\n",
        "  image/=255. # So that the values remains between 0 and 1\n",
        "  return image, label\n",
        "\n",
        "scaled_train_and_validation_data= m_train.map(scale)\n",
        "scaled_test_data=m_test.map(scale)\n",
        "\n",
        "shuffled_train_and_val_data= scaled_train_and_validation_data.shuffle(10000) # we don't shuffe whole data at once to prevent memory overfow\n",
        "\n",
        "val_data= shuffled_train_and_val_data.take(validation_samples)\n",
        "train_data= shuffled_train_and_val_data.skip(validation_samples)\n",
        "\n",
        "type(train_data)"
      ],
      "metadata": {
        "colab": {
          "base_uri": "https://localhost:8080/"
        },
        "id": "SEGt_kdc2rhg",
        "outputId": "49c4b0a3-f087-4045-8e1b-f6366a821b8d"
      },
      "execution_count": 3,
      "outputs": [
        {
          "output_type": "execute_result",
          "data": {
            "text/plain": [
              "tensorflow.python.data.ops.skip_op._SkipDataset"
            ]
          },
          "metadata": {},
          "execution_count": 3
        }
      ]
    },
    {
      "cell_type": "code",
      "source": [
        "train_data=train_data.batch(100) #SGD\n",
        "val_data= val_data.batch(validation_samples)\n",
        "test_data= m_test.batch(test_samples)"
      ],
      "metadata": {
        "id": "nukc0gfNSLMV"
      },
      "execution_count": 4,
      "outputs": []
    },
    {
      "cell_type": "code",
      "source": [
        "validation_inputs, validation_targets = next(iter(val_data))"
      ],
      "metadata": {
        "id": "KSNthJxJXOqh"
      },
      "execution_count": 5,
      "outputs": []
    },
    {
      "cell_type": "markdown",
      "source": [
        "# Model"
      ],
      "metadata": {
        "id": "yOC4a3OHXeXI"
      }
    },
    {
      "cell_type": "code",
      "source": [
        "input_size=784\n",
        "output_size=10\n",
        "hidden_layer_size=1000"
      ],
      "metadata": {
        "id": "K_g8EWbQYAAw"
      },
      "execution_count": 22,
      "outputs": []
    },
    {
      "cell_type": "code",
      "source": [
        "model=tf.keras.Sequential([\n",
        "    tf.keras.layers.Flatten(input_shape=(28,28,1)),\n",
        "    tf.keras.layers.Dense(hidden_layer_size,activation='relu'),\n",
        "    tf.keras.layers.Dense(hidden_layer_size,activation='relu'),\n",
        "    tf.keras.layers.Dense(hidden_layer_size,activation='tanh'), # sigmoid gave lower accuracy\n",
        "    tf.keras.layers.Dense(output_size,activation='softmax'),\n",
        "])\n",
        "model.compile(optimizer='adam',loss='sparse_categorical_crossentropy',metrics=['accuracy'])"
      ],
      "metadata": {
        "id": "3LYvqlZHYdOD"
      },
      "execution_count": 26,
      "outputs": []
    },
    {
      "cell_type": "code",
      "source": [
        "EPOCHS=10\n",
        "model.fit(train_data,epochs=EPOCHS,validation_data=(validation_inputs,validation_targets),verbose=2)"
      ],
      "metadata": {
        "id": "xwT_DTrLsOuo",
        "colab": {
          "base_uri": "https://localhost:8080/"
        },
        "outputId": "580e3552-f750-487c-defd-e2860a0515d0"
      },
      "execution_count": 27,
      "outputs": [
        {
          "output_type": "stream",
          "name": "stdout",
          "text": [
            "Epoch 1/10\n",
            "540/540 - 5s - loss: 0.2006 - accuracy: 0.9377 - val_loss: 0.1224 - val_accuracy: 0.9595 - 5s/epoch - 10ms/step\n",
            "Epoch 2/10\n",
            "540/540 - 3s - loss: 0.0865 - accuracy: 0.9736 - val_loss: 0.0708 - val_accuracy: 0.9777 - 3s/epoch - 6ms/step\n",
            "Epoch 3/10\n",
            "540/540 - 4s - loss: 0.0601 - accuracy: 0.9814 - val_loss: 0.0648 - val_accuracy: 0.9815 - 4s/epoch - 7ms/step\n",
            "Epoch 4/10\n",
            "540/540 - 3s - loss: 0.0466 - accuracy: 0.9855 - val_loss: 0.0552 - val_accuracy: 0.9853 - 3s/epoch - 6ms/step\n",
            "Epoch 5/10\n",
            "540/540 - 3s - loss: 0.0390 - accuracy: 0.9879 - val_loss: 0.0489 - val_accuracy: 0.9867 - 3s/epoch - 6ms/step\n",
            "Epoch 6/10\n",
            "540/540 - 4s - loss: 0.0363 - accuracy: 0.9888 - val_loss: 0.0343 - val_accuracy: 0.9888 - 4s/epoch - 8ms/step\n",
            "Epoch 7/10\n",
            "540/540 - 3s - loss: 0.0308 - accuracy: 0.9899 - val_loss: 0.0381 - val_accuracy: 0.9892 - 3s/epoch - 6ms/step\n",
            "Epoch 8/10\n",
            "540/540 - 3s - loss: 0.0289 - accuracy: 0.9917 - val_loss: 0.0411 - val_accuracy: 0.9888 - 3s/epoch - 6ms/step\n",
            "Epoch 9/10\n",
            "540/540 - 4s - loss: 0.0225 - accuracy: 0.9928 - val_loss: 0.0262 - val_accuracy: 0.9930 - 4s/epoch - 7ms/step\n",
            "Epoch 10/10\n",
            "540/540 - 3s - loss: 0.0238 - accuracy: 0.9927 - val_loss: 0.0400 - val_accuracy: 0.9893 - 3s/epoch - 6ms/step\n"
          ]
        },
        {
          "output_type": "execute_result",
          "data": {
            "text/plain": [
              "<keras.src.callbacks.History at 0x7a96903e6bf0>"
            ]
          },
          "metadata": {},
          "execution_count": 27
        }
      ]
    },
    {
      "cell_type": "code",
      "source": [
        "test_loss, test_accuracy = model.evaluate(test_data)"
      ],
      "metadata": {
        "colab": {
          "base_uri": "https://localhost:8080/"
        },
        "id": "WzbwDi2ov0XA",
        "outputId": "c03000fb-2722-45f5-8bc4-98d774a65faa"
      },
      "execution_count": 32,
      "outputs": [
        {
          "output_type": "stream",
          "name": "stdout",
          "text": [
            "1/1 [==============================] - 0s 77ms/step - loss: 0.1466 - accuracy: 0.9784\n"
          ]
        }
      ]
    },
    {
      "cell_type": "code",
      "source": [
        "print(f'Test Loss:{test_loss:.2f}, Test Accuracy:{test_accuracy*100:.2f}%') # 250,5,10"
      ],
      "metadata": {
        "colab": {
          "base_uri": "https://localhost:8080/"
        },
        "id": "kw4eJJKJwFsm",
        "outputId": "da3a8ed1-c43c-48b7-e295-e19ed63d897a"
      },
      "execution_count": 29,
      "outputs": [
        {
          "output_type": "stream",
          "name": "stdout",
          "text": [
            "Test Loss:0.15, Test Accuracy:97.84%\n"
          ]
        }
      ]
    },
    {
      "cell_type": "markdown",
      "source": [
        "1. using tanh activation function didn't help in increasing  accuracy. However, when we increase depth and width to 3, 400 and use 10 epochs, the model higher accuracy"
      ],
      "metadata": {
        "id": "kG3h6kgj2Aik"
      }
    }
  ]
}