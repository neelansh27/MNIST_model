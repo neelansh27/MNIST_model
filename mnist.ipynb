{
  "nbformat": 4,
  "nbformat_minor": 0,
  "metadata": {
    "colab": {
      "provenance": [],
      "gpuType": "T4",
      "authorship_tag": "ABX9TyMpy3qUgUlkqFhOVsxIZZvi",
      "include_colab_link": true
    },
    "kernelspec": {
      "name": "python3",
      "display_name": "Python 3"
    },
    "language_info": {
      "name": "python"
    },
    "accelerator": "GPU",
    "widgets": {
      "application/vnd.jupyter.widget-state+json": {
        "8c37f8afe2464bdab063457241f5b0b5": {
          "model_module": "@jupyter-widgets/controls",
          "model_name": "HBoxModel",
          "model_module_version": "1.5.0",
          "state": {
            "_dom_classes": [],
            "_model_module": "@jupyter-widgets/controls",
            "_model_module_version": "1.5.0",
            "_model_name": "HBoxModel",
            "_view_count": null,
            "_view_module": "@jupyter-widgets/controls",
            "_view_module_version": "1.5.0",
            "_view_name": "HBoxView",
            "box_style": "",
            "children": [
              "IPY_MODEL_b1123e033e174727ba1f458493ca2e9c",
              "IPY_MODEL_1fa61656f2d04f4a85d808a8bc11f8a1",
              "IPY_MODEL_13b91cc0efe143d3948eb45ac745f293"
            ],
            "layout": "IPY_MODEL_6a62321688a44592b2b5749ea8970815"
          }
        },
        "b1123e033e174727ba1f458493ca2e9c": {
          "model_module": "@jupyter-widgets/controls",
          "model_name": "HTMLModel",
          "model_module_version": "1.5.0",
          "state": {
            "_dom_classes": [],
            "_model_module": "@jupyter-widgets/controls",
            "_model_module_version": "1.5.0",
            "_model_name": "HTMLModel",
            "_view_count": null,
            "_view_module": "@jupyter-widgets/controls",
            "_view_module_version": "1.5.0",
            "_view_name": "HTMLView",
            "description": "",
            "description_tooltip": null,
            "layout": "IPY_MODEL_704011fa18d54cef912418d9eb403e14",
            "placeholder": "​",
            "style": "IPY_MODEL_01244cfe96f745dfbe370d8818a68473",
            "value": "Dl Completed...: 100%"
          }
        },
        "1fa61656f2d04f4a85d808a8bc11f8a1": {
          "model_module": "@jupyter-widgets/controls",
          "model_name": "FloatProgressModel",
          "model_module_version": "1.5.0",
          "state": {
            "_dom_classes": [],
            "_model_module": "@jupyter-widgets/controls",
            "_model_module_version": "1.5.0",
            "_model_name": "FloatProgressModel",
            "_view_count": null,
            "_view_module": "@jupyter-widgets/controls",
            "_view_module_version": "1.5.0",
            "_view_name": "ProgressView",
            "bar_style": "success",
            "description": "",
            "description_tooltip": null,
            "layout": "IPY_MODEL_8209a12551654f85ba8ad605a975fee7",
            "max": 5,
            "min": 0,
            "orientation": "horizontal",
            "style": "IPY_MODEL_3de6ac0f2cbf488a8e1f95088c785d1a",
            "value": 5
          }
        },
        "13b91cc0efe143d3948eb45ac745f293": {
          "model_module": "@jupyter-widgets/controls",
          "model_name": "HTMLModel",
          "model_module_version": "1.5.0",
          "state": {
            "_dom_classes": [],
            "_model_module": "@jupyter-widgets/controls",
            "_model_module_version": "1.5.0",
            "_model_name": "HTMLModel",
            "_view_count": null,
            "_view_module": "@jupyter-widgets/controls",
            "_view_module_version": "1.5.0",
            "_view_name": "HTMLView",
            "description": "",
            "description_tooltip": null,
            "layout": "IPY_MODEL_7ea2fa3d00eb4838912059ee3b5e2d84",
            "placeholder": "​",
            "style": "IPY_MODEL_447c75ec3e39458cb3ae0b8f595c5a9b",
            "value": " 5/5 [00:00&lt;00:00, 14.13 file/s]"
          }
        },
        "6a62321688a44592b2b5749ea8970815": {
          "model_module": "@jupyter-widgets/base",
          "model_name": "LayoutModel",
          "model_module_version": "1.2.0",
          "state": {
            "_model_module": "@jupyter-widgets/base",
            "_model_module_version": "1.2.0",
            "_model_name": "LayoutModel",
            "_view_count": null,
            "_view_module": "@jupyter-widgets/base",
            "_view_module_version": "1.2.0",
            "_view_name": "LayoutView",
            "align_content": null,
            "align_items": null,
            "align_self": null,
            "border": null,
            "bottom": null,
            "display": null,
            "flex": null,
            "flex_flow": null,
            "grid_area": null,
            "grid_auto_columns": null,
            "grid_auto_flow": null,
            "grid_auto_rows": null,
            "grid_column": null,
            "grid_gap": null,
            "grid_row": null,
            "grid_template_areas": null,
            "grid_template_columns": null,
            "grid_template_rows": null,
            "height": null,
            "justify_content": null,
            "justify_items": null,
            "left": null,
            "margin": null,
            "max_height": null,
            "max_width": null,
            "min_height": null,
            "min_width": null,
            "object_fit": null,
            "object_position": null,
            "order": null,
            "overflow": null,
            "overflow_x": null,
            "overflow_y": null,
            "padding": null,
            "right": null,
            "top": null,
            "visibility": null,
            "width": null
          }
        },
        "704011fa18d54cef912418d9eb403e14": {
          "model_module": "@jupyter-widgets/base",
          "model_name": "LayoutModel",
          "model_module_version": "1.2.0",
          "state": {
            "_model_module": "@jupyter-widgets/base",
            "_model_module_version": "1.2.0",
            "_model_name": "LayoutModel",
            "_view_count": null,
            "_view_module": "@jupyter-widgets/base",
            "_view_module_version": "1.2.0",
            "_view_name": "LayoutView",
            "align_content": null,
            "align_items": null,
            "align_self": null,
            "border": null,
            "bottom": null,
            "display": null,
            "flex": null,
            "flex_flow": null,
            "grid_area": null,
            "grid_auto_columns": null,
            "grid_auto_flow": null,
            "grid_auto_rows": null,
            "grid_column": null,
            "grid_gap": null,
            "grid_row": null,
            "grid_template_areas": null,
            "grid_template_columns": null,
            "grid_template_rows": null,
            "height": null,
            "justify_content": null,
            "justify_items": null,
            "left": null,
            "margin": null,
            "max_height": null,
            "max_width": null,
            "min_height": null,
            "min_width": null,
            "object_fit": null,
            "object_position": null,
            "order": null,
            "overflow": null,
            "overflow_x": null,
            "overflow_y": null,
            "padding": null,
            "right": null,
            "top": null,
            "visibility": null,
            "width": null
          }
        },
        "01244cfe96f745dfbe370d8818a68473": {
          "model_module": "@jupyter-widgets/controls",
          "model_name": "DescriptionStyleModel",
          "model_module_version": "1.5.0",
          "state": {
            "_model_module": "@jupyter-widgets/controls",
            "_model_module_version": "1.5.0",
            "_model_name": "DescriptionStyleModel",
            "_view_count": null,
            "_view_module": "@jupyter-widgets/base",
            "_view_module_version": "1.2.0",
            "_view_name": "StyleView",
            "description_width": ""
          }
        },
        "8209a12551654f85ba8ad605a975fee7": {
          "model_module": "@jupyter-widgets/base",
          "model_name": "LayoutModel",
          "model_module_version": "1.2.0",
          "state": {
            "_model_module": "@jupyter-widgets/base",
            "_model_module_version": "1.2.0",
            "_model_name": "LayoutModel",
            "_view_count": null,
            "_view_module": "@jupyter-widgets/base",
            "_view_module_version": "1.2.0",
            "_view_name": "LayoutView",
            "align_content": null,
            "align_items": null,
            "align_self": null,
            "border": null,
            "bottom": null,
            "display": null,
            "flex": null,
            "flex_flow": null,
            "grid_area": null,
            "grid_auto_columns": null,
            "grid_auto_flow": null,
            "grid_auto_rows": null,
            "grid_column": null,
            "grid_gap": null,
            "grid_row": null,
            "grid_template_areas": null,
            "grid_template_columns": null,
            "grid_template_rows": null,
            "height": null,
            "justify_content": null,
            "justify_items": null,
            "left": null,
            "margin": null,
            "max_height": null,
            "max_width": null,
            "min_height": null,
            "min_width": null,
            "object_fit": null,
            "object_position": null,
            "order": null,
            "overflow": null,
            "overflow_x": null,
            "overflow_y": null,
            "padding": null,
            "right": null,
            "top": null,
            "visibility": null,
            "width": null
          }
        },
        "3de6ac0f2cbf488a8e1f95088c785d1a": {
          "model_module": "@jupyter-widgets/controls",
          "model_name": "ProgressStyleModel",
          "model_module_version": "1.5.0",
          "state": {
            "_model_module": "@jupyter-widgets/controls",
            "_model_module_version": "1.5.0",
            "_model_name": "ProgressStyleModel",
            "_view_count": null,
            "_view_module": "@jupyter-widgets/base",
            "_view_module_version": "1.2.0",
            "_view_name": "StyleView",
            "bar_color": null,
            "description_width": ""
          }
        },
        "7ea2fa3d00eb4838912059ee3b5e2d84": {
          "model_module": "@jupyter-widgets/base",
          "model_name": "LayoutModel",
          "model_module_version": "1.2.0",
          "state": {
            "_model_module": "@jupyter-widgets/base",
            "_model_module_version": "1.2.0",
            "_model_name": "LayoutModel",
            "_view_count": null,
            "_view_module": "@jupyter-widgets/base",
            "_view_module_version": "1.2.0",
            "_view_name": "LayoutView",
            "align_content": null,
            "align_items": null,
            "align_self": null,
            "border": null,
            "bottom": null,
            "display": null,
            "flex": null,
            "flex_flow": null,
            "grid_area": null,
            "grid_auto_columns": null,
            "grid_auto_flow": null,
            "grid_auto_rows": null,
            "grid_column": null,
            "grid_gap": null,
            "grid_row": null,
            "grid_template_areas": null,
            "grid_template_columns": null,
            "grid_template_rows": null,
            "height": null,
            "justify_content": null,
            "justify_items": null,
            "left": null,
            "margin": null,
            "max_height": null,
            "max_width": null,
            "min_height": null,
            "min_width": null,
            "object_fit": null,
            "object_position": null,
            "order": null,
            "overflow": null,
            "overflow_x": null,
            "overflow_y": null,
            "padding": null,
            "right": null,
            "top": null,
            "visibility": null,
            "width": null
          }
        },
        "447c75ec3e39458cb3ae0b8f595c5a9b": {
          "model_module": "@jupyter-widgets/controls",
          "model_name": "DescriptionStyleModel",
          "model_module_version": "1.5.0",
          "state": {
            "_model_module": "@jupyter-widgets/controls",
            "_model_module_version": "1.5.0",
            "_model_name": "DescriptionStyleModel",
            "_view_count": null,
            "_view_module": "@jupyter-widgets/base",
            "_view_module_version": "1.2.0",
            "_view_name": "StyleView",
            "description_width": ""
          }
        }
      }
    }
  },
  "cells": [
    {
      "cell_type": "markdown",
      "metadata": {
        "id": "view-in-github",
        "colab_type": "text"
      },
      "source": [
        "<a href=\"https://colab.research.google.com/github/neelansh27/MNIST_model/blob/main/mnist.ipynb\" target=\"_parent\"><img src=\"https://colab.research.google.com/assets/colab-badge.svg\" alt=\"Open In Colab\"/></a>"
      ]
    },
    {
      "cell_type": "code",
      "execution_count": 2,
      "metadata": {
        "id": "ZW__VLp_zU5U"
      },
      "outputs": [],
      "source": [
        "import numpy as np\n",
        "import tensorflow as tf\n",
        "import tensorflow_datasets as tfds"
      ]
    },
    {
      "cell_type": "code",
      "source": [
        "mnist_dataset,mnist_info=tfds.load(name='mnist',as_supervised=True,with_info=True)\n",
        "type(mnist_dataset)"
      ],
      "metadata": {
        "colab": {
          "base_uri": "https://localhost:8080/",
          "height": 121,
          "referenced_widgets": [
            "8c37f8afe2464bdab063457241f5b0b5",
            "b1123e033e174727ba1f458493ca2e9c",
            "1fa61656f2d04f4a85d808a8bc11f8a1",
            "13b91cc0efe143d3948eb45ac745f293",
            "6a62321688a44592b2b5749ea8970815",
            "704011fa18d54cef912418d9eb403e14",
            "01244cfe96f745dfbe370d8818a68473",
            "8209a12551654f85ba8ad605a975fee7",
            "3de6ac0f2cbf488a8e1f95088c785d1a",
            "7ea2fa3d00eb4838912059ee3b5e2d84",
            "447c75ec3e39458cb3ae0b8f595c5a9b"
          ]
        },
        "id": "OFTsRkKQ2GdF",
        "outputId": "f23a7f28-fa8d-40da-801b-13b21790a9f9"
      },
      "execution_count": 3,
      "outputs": [
        {
          "output_type": "stream",
          "name": "stdout",
          "text": [
            "Downloading and preparing dataset 11.06 MiB (download: 11.06 MiB, generated: 21.00 MiB, total: 32.06 MiB) to /root/tensorflow_datasets/mnist/3.0.1...\n"
          ]
        },
        {
          "output_type": "display_data",
          "data": {
            "text/plain": [
              "Dl Completed...:   0%|          | 0/5 [00:00<?, ? file/s]"
            ],
            "application/vnd.jupyter.widget-view+json": {
              "version_major": 2,
              "version_minor": 0,
              "model_id": "8c37f8afe2464bdab063457241f5b0b5"
            }
          },
          "metadata": {}
        },
        {
          "output_type": "stream",
          "name": "stdout",
          "text": [
            "Dataset mnist downloaded and prepared to /root/tensorflow_datasets/mnist/3.0.1. Subsequent calls will reuse this data.\n"
          ]
        },
        {
          "output_type": "execute_result",
          "data": {
            "text/plain": [
              "dict"
            ]
          },
          "metadata": {},
          "execution_count": 3
        }
      ]
    },
    {
      "cell_type": "code",
      "source": [
        "m_train,m_test=mnist_dataset['train'],mnist_dataset['test']\n",
        "validation_samples=0.1 * mnist_info.splits['train'].num_examples\n",
        "test_samples= mnist_info.splits['test'].num_examples\n",
        "validation_samples=tf.cast(validation_samples,tf.int64) # validation samples could be float so we cast it to int\n",
        "\n",
        "def scale(image,label):\n",
        "  image=tf.cast(image,tf.float32)\n",
        "  image/=255. # So that the values remains between 0 and 1\n",
        "  return image, label\n",
        "\n",
        "scaled_train_and_validation_data= m_train.map(scale)\n",
        "scaled_test_data=m_test.map(scale)\n",
        "\n",
        "shuffled_train_and_val_data= scaled_train_and_validation_data.shuffle(10000) # we don't shuffe whole data at once to prevent memory overfow\n",
        "\n",
        "val_data= shuffled_train_and_val_data.take(validation_samples)\n",
        "train_data= shuffled_train_and_val_data.skip(validation_samples)\n",
        "\n",
        "type(train_data)"
      ],
      "metadata": {
        "colab": {
          "base_uri": "https://localhost:8080/"
        },
        "id": "SEGt_kdc2rhg",
        "outputId": "9b6d8d13-4e72-408f-e8ee-628eec738ef7"
      },
      "execution_count": 4,
      "outputs": [
        {
          "output_type": "execute_result",
          "data": {
            "text/plain": [
              "tensorflow.python.data.ops.skip_op._SkipDataset"
            ]
          },
          "metadata": {},
          "execution_count": 4
        }
      ]
    },
    {
      "cell_type": "code",
      "source": [
        "train_data=train_data.batch(100) #SGD\n",
        "val_data= val_data.batch(validation_samples)\n",
        "test_data= m_test.batch(test_samples)"
      ],
      "metadata": {
        "id": "nukc0gfNSLMV"
      },
      "execution_count": 5,
      "outputs": []
    },
    {
      "cell_type": "code",
      "source": [
        "validation_inputs, validation_targets = next(iter(val_data))"
      ],
      "metadata": {
        "id": "KSNthJxJXOqh"
      },
      "execution_count": 6,
      "outputs": []
    },
    {
      "cell_type": "markdown",
      "source": [
        "# Model"
      ],
      "metadata": {
        "id": "yOC4a3OHXeXI"
      }
    },
    {
      "cell_type": "code",
      "source": [
        "input_size=784\n",
        "output_size=10\n",
        "hidden_layer_size=50"
      ],
      "metadata": {
        "id": "K_g8EWbQYAAw"
      },
      "execution_count": 7,
      "outputs": []
    },
    {
      "cell_type": "code",
      "source": [
        "model=tf.keras.Sequential([\n",
        "    tf.keras.layers.Flatten(input_shape=(28,28,1)),\n",
        "    tf.keras.layers.Dense(hidden_layer_size,activation='relu'),\n",
        "    tf.keras.layers.Dense(hidden_layer_size,activation='relu'),\n",
        "    tf.keras.layers.Dense(output_size,activation='softmax'),\n",
        "])\n",
        "model.compile(optimizer='adam',loss='sparse_categorical_crossentropy',metrics=['accuracy'])"
      ],
      "metadata": {
        "id": "3LYvqlZHYdOD"
      },
      "execution_count": 12,
      "outputs": []
    },
    {
      "cell_type": "code",
      "source": [
        "EPOCHS=6\n",
        "model.fit(train_data,epochs=EPOCHS,validation_data=(validation_inputs,validation_targets),verbose=1)"
      ],
      "metadata": {
        "colab": {
          "base_uri": "https://localhost:8080/"
        },
        "id": "xwT_DTrLsOuo",
        "outputId": "c80da6c0-42b7-4526-b3e4-f7ffad4af3b1"
      },
      "execution_count": 17,
      "outputs": [
        {
          "output_type": "stream",
          "name": "stdout",
          "text": [
            "Epoch 1/6\n",
            "540/540 [==============================] - 4s 6ms/step - loss: 0.0756 - accuracy: 0.9774 - val_loss: 0.0818 - val_accuracy: 0.9765\n",
            "Epoch 2/6\n",
            "540/540 [==============================] - 3s 5ms/step - loss: 0.0658 - accuracy: 0.9799 - val_loss: 0.0734 - val_accuracy: 0.9790\n",
            "Epoch 3/6\n",
            "540/540 [==============================] - 4s 6ms/step - loss: 0.0606 - accuracy: 0.9818 - val_loss: 0.0619 - val_accuracy: 0.9820\n",
            "Epoch 4/6\n",
            "540/540 [==============================] - 4s 6ms/step - loss: 0.0523 - accuracy: 0.9838 - val_loss: 0.0587 - val_accuracy: 0.9822\n",
            "Epoch 5/6\n",
            "540/540 [==============================] - 4s 6ms/step - loss: 0.0487 - accuracy: 0.9850 - val_loss: 0.0507 - val_accuracy: 0.9840\n",
            "Epoch 6/6\n",
            "540/540 [==============================] - 3s 5ms/step - loss: 0.0441 - accuracy: 0.9866 - val_loss: 0.0548 - val_accuracy: 0.9817\n"
          ]
        },
        {
          "output_type": "execute_result",
          "data": {
            "text/plain": [
              "<keras.src.callbacks.History at 0x78b7ddec7760>"
            ]
          },
          "metadata": {},
          "execution_count": 17
        }
      ]
    }
  ]
}